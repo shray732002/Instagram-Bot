{
 "cells": [
  {
   "cell_type": "markdown",
   "id": "336be045",
   "metadata": {},
   "source": [
    "# Insta-Bot\n",
    "\n",
    "## My friend has opened a new Food Blogging handle on Instagram and wants to get famous. He wants to follow a lot of people so that he can get noticed quickly but it is a tedious task so he asks you to help him. We decided to help him by creating an Instagram Bot by automation using Selenium.\n",
    "\n",
    "##"
   ]
  },
  {
   "cell_type": "markdown",
   "id": "40e4c93b",
   "metadata": {},
   "source": [
    "##### If some cell give an error, make sure to run it again it will surely work \n",
    "###"
   ]
  },
  {
   "cell_type": "code",
   "execution_count": null,
   "id": "8649295f",
   "metadata": {},
   "outputs": [],
   "source": [
    "from selenium import webdriver\n",
    "from selenium.webdriver.chrome.service import Service\n",
    "from selenium.webdriver.common.by import By\n",
    "service = Service(executable_path='C:/Users/Asus/Desktop/shray/coding ninjas/chromedriver.exe')\n",
    "driver = webdriver.Chrome(service = service)"
   ]
  },
  {
   "cell_type": "code",
   "execution_count": null,
   "id": "89070cc2",
   "metadata": {},
   "outputs": [],
   "source": [
    "base_url = 'https://www.instagram.com'\n",
    "driver.get('https://www.instagram.com/')\n",
    "driver.maximize_window()"
   ]
  },
  {
   "cell_type": "markdown",
   "id": "34f37a29",
   "metadata": {},
   "source": [
    "###\n",
    "### Login to your Instagram Handle"
   ]
  },
  {
   "cell_type": "code",
   "execution_count": null,
   "id": "5ad04a2b",
   "metadata": {},
   "outputs": [],
   "source": [
    "### Enter your username and password"
   ]
  },
  {
   "cell_type": "code",
   "execution_count": null,
   "id": "dfb416f7",
   "metadata": {},
   "outputs": [],
   "source": [
    "username = '##########'\n",
    "password = '##########'"
   ]
  },
  {
   "cell_type": "code",
   "execution_count": null,
   "id": "281c2d93",
   "metadata": {},
   "outputs": [],
   "source": [
    "import time\n",
    "from selenium.webdriver.support.ui import WebDriverWait\n",
    "from selenium.webdriver.support import expected_conditions as EC\n",
    "try:\n",
    "    wait = WebDriverWait(driver,10)\n",
    "    user_name = wait.until(EC.presence_of_element_located((By.NAME,'username')))\n",
    "    user_name.send_keys(username)\n",
    "    pass_word = wait.until(EC.presence_of_element_located((By.NAME,'password')))\n",
    "    pass_word.send_keys(password)\n",
    "    time.sleep(4)\n",
    "    log_in_button = wait.until(EC.element_to_be_clickable((By.XPATH,'//*[@id=\"loginForm\"]/div/div[3]/button')))\n",
    "    log_in_button.submit()\n",
    "    #save info pop up:- Save Info and Not Now are 2 options, we will go for not now\n",
    "    not_now = wait.until(EC.presence_of_element_located((By.XPATH,'//*[@class=\"_ac8f\"]/div')))\n",
    "    not_now.click()\n",
    "    # to turn off notifications\n",
    "    turn_off = wait.until(EC.presence_of_element_located((By.XPATH,'//*[@class=\"_a9-z\"]//button[2]')))\n",
    "    turn_off.click()\n",
    "    driver.save_screenshot('successful_login.png')\n",
    "except:\n",
    "    print(TRY-AGAIN)"
   ]
  },
  {
   "cell_type": "markdown",
   "id": "f5ba3c2f",
   "metadata": {},
   "source": [
    "###\n",
    "### Type for “handle” in search bar and print all the names of the Instagram Handles that are displayed in list after typing that specific handle\n",
    "#### Note : Make sure to avoid printing hashtags"
   ]
  },
  {
   "cell_type": "code",
   "execution_count": null,
   "id": "6b30ed54",
   "metadata": {},
   "outputs": [],
   "source": [
    "def search(s):\n",
    "    try:\n",
    "        driver.find_element(By.XPATH,'//*[@class=\"x1iyjqo2 xh8yej3\"]/div[2]//div[contains(@class,\"x1n2onr6\")]/a').click()\n",
    "    except:\n",
    "        print(\"Some error\")\n",
    "    search_field = wait.until(EC.element_to_be_clickable((By.XPATH,'//*[@class=\"_aawf _aawg _aexm _abli _amr8\"]/input')))\n",
    "    search_field.send_keys(s)"
   ]
  },
  {
   "cell_type": "code",
   "execution_count": null,
   "id": "b3786e83",
   "metadata": {},
   "outputs": [],
   "source": [
    "def search_list():\n",
    "    wait = WebDriverWait(driver,10)\n",
    "    time.sleep(3)\n",
    "    element = wait.until(EC.presence_of_all_elements_located((By.XPATH,'//*[contains(@class,\"x9f619 x78zum5 xdt5ytf x12dtdjy x6ikm8r x1odjw0f x4uap5\")]//a/div/div/div/div[2]/div/div/span/span/div/span')))\n",
    "    element_list = driver.find_elements(By.XPATH,'//*[contains(@class,\"x9f619 x78zum5 xdt5ytf x12dtdjy x6ikm8r x1odjw0f x4uap5\")]//a/div/div/div/div[2]/div/div/span/span/div/span')\n",
    "    time.sleep(5)\n",
    "    name_store = []\n",
    "    for i in element_list:\n",
    "        attr = i.get_attribute('innerHTML')\n",
    "        name_store.append(attr)\n",
    "    driver.save_screenshot('successful_search.png')    \n",
    "    for entry in name_store:\n",
    "        print(entry)\n",
    "    time.sleep(2)\n",
    "    wait = WebDriverWait(driver,10)\n",
    "    driver.find_element(By.XPATH,'//*[@class=\"x1iyjqo2 xh8yej3\"]/div[2]/span/div/a').click()"
   ]
  },
  {
   "cell_type": "code",
   "execution_count": null,
   "id": "03caed82",
   "metadata": {},
   "outputs": [],
   "source": [
    "import time\n",
    "from bs4 import BeautifulSoup as bs\n",
    "\n",
    "s = 'Specific_handler'\n",
    "search(s)\n",
    "search_list()\n"
   ]
  },
  {
   "cell_type": "markdown",
   "id": "238860e4",
   "metadata": {},
   "source": [
    "###\n",
    "### Searching and Opening a profile\n",
    "#### Open profile of “So Delhi” "
   ]
  },
  {
   "cell_type": "code",
   "execution_count": null,
   "id": "0db237d7",
   "metadata": {},
   "outputs": [],
   "source": [
    "try:\n",
    "    def open_profile(s):\n",
    "        time.sleep(4)\n",
    "        search(s)\n",
    "        time.sleep(3)\n",
    "        wait = WebDriverWait(driver, 10)\n",
    "        element = wait.until(EC.presence_of_element_located((By.XPATH,'//*[contains(@class,\"x9f619 x78zum5 xdt5ytf x12dtdjy x6ikm8r x1odjw0f x4uap5 x18d9i69\")]/div/a')))\n",
    "        handle = driver.find_element(By.XPATH,'//*[contains(@class,\"x9f619 x78zum5 xdt5ytf x12dtdjy x6ikm8r x1odjw0f x4uap5 x18d9i69\")]/div/a')\n",
    "        handle.click()\n",
    "        \n",
    "except:\n",
    "    print(\"Something went wrong\")"
   ]
  },
  {
   "cell_type": "code",
   "execution_count": null,
   "id": "7f7dca2d",
   "metadata": {},
   "outputs": [],
   "source": [
    "s = 'Hanndler_name'\n",
    "open_profile(s)"
   ]
  },
  {
   "cell_type": "markdown",
   "id": "830c6762",
   "metadata": {},
   "source": [
    "###\n",
    "### Follow/Unfollow given handle - \n",
    "#### Open the Instagram Handle of “Handler_name”\n",
    "#### Start following it. Print a message if you are already following\n",
    "#### After following, unfollow the instagram handle. Print a message if you have already unfollowed.\n"
   ]
  },
  {
   "cell_type": "code",
   "execution_count": null,
   "id": "75c542f1",
   "metadata": {},
   "outputs": [],
   "source": [
    "def follow(s):\n",
    "    try:\n",
    "        wait = WebDriverWait(driver,10)\n",
    "        open_profile(s)\n",
    "        visible = driver.find_elements(By.XPATH,'//*[@class=\"_aawf _aawg _aexm _abli _amr8\"]/input')\n",
    "        #if(len(visible)>0):\n",
    "        #    wait.until(EC.presence_of_element_located((By.XPATH,'//*[@class=\"_aawf _aawg _aexm _abli _amr8\"]/input'))).clear()\n",
    "        driver.find_element(By.XPATH,'//*[contains(@class,\"_aawf _aawg _aexm\")]/input').clear()\n",
    "        driver.find_element(By.XPATH,'//*[contains(@class,\"x1iyjqo2\")]/div[2]//div//div').click()\n",
    "        wait = WebDriverWait(driver, 10)\n",
    "        search1 = wait.until(EC.presence_of_element_located((By.XPATH,'//*[@class=\"x9f619 x1n2onr6 x1ja2u2z\"]/div/div/div/div/div/div[2]//*[@class=\"_aa_y _aa_z _aa_-\"]//section/div/div/div/div/button/div/div')))\n",
    "        element = driver.find_element(By.XPATH,'//*[@class=\"x9f619 x1n2onr6 x1ja2u2z\"]/div/div/div/div/div/div[2]//*[@class=\"_aa_y _aa_z _aa_-\"]//section/div/div/div/div/button/div/div')\n",
    "        status = element.get_attribute('innerHTML')\n",
    "        follow_btn = wait.until(EC.presence_of_element_located((By.XPATH,'//*[@class=\"x9f619 x1n2onr6 x1ja2u2z\"]/div/div/div/div/div/div[2]//*[@class=\"_aa_y _aa_z _aa_-\"]//section/div/div/div/div/button')))\n",
    "        btn_link = driver.find_element(By.XPATH,'//*[@class=\"x9f619 x1n2onr6 x1ja2u2z\"]/div/div/div/div/div/div[2]//*[@class=\"_aa_y _aa_z _aa_-\"]//section/div/div/div/div/button')\n",
    "        if(status=='Follow'):\n",
    "            btn_link.click()\n",
    "        else:\n",
    "            print(\"Already following\")\n",
    "    except TimeoutException:\n",
    "        print('Not Found')"
   ]
  },
  {
   "cell_type": "code",
   "execution_count": null,
   "id": "30bcdee0",
   "metadata": {},
   "outputs": [],
   "source": [
    "def unfollow(s):\n",
    "    try:\n",
    "        open_profile(s)\n",
    "        wait = WebDriverWait(driver,10)\n",
    "        #visible = driver.find_elements(By.XPATH,'//*[@class=\"_aawf _aawg _aexm _abli _amr8\"]/input')\n",
    "        unfollow_btn = wait.until(EC.presence_of_element_located((By.XPATH,'//*[@class=\"x9f619 x1n2onr6 x1ja2u2z\"]/div/div/div/div/div/div[2]//*[@class=\"_aa_y _aa_z _aa_-\"]//section/div/div/div/div/button')))\n",
    "        btn_link = driver.find_element(By.XPATH,'//*[@class=\"x9f619 x1n2onr6 x1ja2u2z\"]/div/div/div/div/div/div[2]//*[@class=\"_aa_y _aa_z _aa_-\"]//section/div/div/div/div/button')\n",
    "        element = driver.find_element(By.XPATH,'//*[@class=\"x9f619 x1n2onr6 x1ja2u2z\"]/div/div/div/div/div/div[2]//*[@class=\"_aa_y _aa_z _aa_-\"]//section/div/div/div/div/button/div/div')\n",
    "        status = element.get_attribute('innerHTML')\n",
    "        if(status=='Following'):\n",
    "            btn_link.click()\n",
    "            pop_btn = wait.until(EC.presence_of_element_located((By.XPATH,'//*[@class=\"x78zum5 xdt5ytf xg6iff7 x1n2onr6\"]/div[2]/div/div/div/div/div/div/div/div/div[8]/div')))\n",
    "            unfollow_btn = driver.find_element(By.XPATH,'//*[@class=\"x78zum5 xdt5ytf xg6iff7 x1n2onr6\"]/div[2]/div/div/div/div/div/div/div/div/div[8]')\n",
    "            unfollow_btn.click()\n",
    "        else:\n",
    "            print('Already Unfollowed')\n",
    "    except TimeoutException:   \n",
    "        print(\"Some issues are there\")"
   ]
  },
  {
   "cell_type": "code",
   "execution_count": null,
   "id": "799cf1bb",
   "metadata": {},
   "outputs": [],
   "source": [
    "s = \"Handler_name\"\n",
    "follow(s)"
   ]
  },
  {
   "cell_type": "code",
   "execution_count": null,
   "id": "39797306",
   "metadata": {},
   "outputs": [],
   "source": [
    "s=\"Handler_name\"\n",
    "unfollow(s)"
   ]
  },
  {
   "cell_type": "markdown",
   "id": "77e541c9",
   "metadata": {},
   "source": [
    "###\n",
    "### Like/Unlike posts\n",
    "#### Liking the top 30 posts of the ‘Handler name'. Print message if you have already liked it.\n",
    "#### Unliking the top 30 posts of the ‘Handler name’. Print message if you have already unliked it."
   ]
  },
  {
   "cell_type": "code",
   "execution_count": null,
   "id": "41671127",
   "metadata": {},
   "outputs": [],
   "source": [
    "def posts_collect(s,end):\n",
    "    open_profile(s)\n",
    "    while True:\n",
    "        wait = WebDriverWait(driver,10)\n",
    "        posts = wait.until(EC.presence_of_all_elements_located((By.XPATH,'//*[contains(@class,\"x1gryazu xh8yej3\")]/div[2]//div//*[@class=\"x1iyjqo2\"]/div/div/div/div')))\n",
    "        posts1 = driver.find_elements(By.XPATH,'//*[contains(@class,\"x1gryazu xh8yej3\")]/div[2]//div//*[@class=\"x1iyjqo2\"]/div/div/div/div')         \n",
    "        if(len(posts1)>end):\n",
    "            break\n",
    "        current_height = driver.execute_script('return document.body.scrollHeight;')\n",
    "        driver.execute_script('window.scrollTo(0,arguments[0]);',current_height)\n",
    "        time.sleep(3)\n",
    "        new_height = driver.execute_script('return document.body.scrollHeight;')\n",
    "        if new_height==current_height:\n",
    "            break\n",
    "        current_height = new_height    \n",
    "    handler_posts = posts1[:end]\n",
    "    \n",
    "    return handler_posts"
   ]
  },
  {
   "cell_type": "code",
   "execution_count": null,
   "id": "2ff994f5",
   "metadata": {},
   "outputs": [],
   "source": [
    "import re\n",
    "def like(count):\n",
    "    try:\n",
    "        wait = WebDriverWait(driver,10)\n",
    "        like_post = wait.until(EC.presence_of_element_located((By.XPATH,'//*[@class=\"_aamw\"]/div')))\n",
    "        like_btn = driver.find_element(By.XPATH,'//*[@class=\"_aamw\"]/div')\n",
    "        wait = WebDriverWait(driver,10)\n",
    "        like_status = wait.until(EC.presence_of_element_located((By.XPATH,'//*[@class=\"_aamw\"]//*[@class=\"x1lliihq x1n2onr6\"]')))\n",
    "        like_status = like_status.get_attribute('innerHTML') \n",
    "        start = '<title>'\n",
    "        end = '</title>' \n",
    "        like_status = ''.join(like_status.split(start)[1].split(end)[0])\n",
    "        if(like_status=='Like'):\n",
    "            like_btn.click()\n",
    "            print(\"Post\",count,\" Liked\")\n",
    "        else:\n",
    "            print(\"Post\",count,\" Already liked\")\n",
    "    except:\n",
    "        print(\"Something went wrong\")\n",
    "def unlike(count):\n",
    "    try:\n",
    "        wait = WebDriverWait(driver,10)\n",
    "        like_post = wait.until(EC.presence_of_element_located((By.XPATH,'//*[@class=\"_aamw\"]/div')))\n",
    "        like_btn = driver.find_element(By.XPATH,'//*[@class=\"_aamw\"]/div')\n",
    "        wait = WebDriverWait(driver,10)\n",
    "        like_status = wait.until(EC.presence_of_element_located((By.XPATH,'//*[@class=\"_aamw\"]//*[@class=\"x1lliihq x1n2onr6\"]')))\n",
    "        like_status = like_status.get_attribute('innerHTML') \n",
    "        start = '<title>'\n",
    "        end = '</title>' \n",
    "        like_status = ''.join(like_status.split(start)[1].split(end)[0])\n",
    "        if(like_status=='Unlike'):\n",
    "            like_btn.click()\n",
    "            print(\"Post\",count,\" Unliked\")\n",
    "        else:\n",
    "            print(\"Post\",count,\" Already Unliked\")\n",
    "    except:\n",
    "        print(\"Something went wrong\")        "
   ]
  },
  {
   "cell_type": "code",
   "execution_count": null,
   "id": "0a11aef8",
   "metadata": {},
   "outputs": [],
   "source": [
    "s = 'handler_name'\n",
    "start,end=1,30\n",
    "posts = posts_collect(s,end)\n",
    "for i in range(start-1,end):\n",
    "    posts[i].click()\n",
    "    like(i+1)\n",
    "    driver.back()"
   ]
  },
  {
   "cell_type": "code",
   "execution_count": null,
   "id": "e8dde7f3",
   "metadata": {},
   "outputs": [],
   "source": [
    "s = 'handler_name'\n",
    "start,end=1,30\n",
    "posts = posts_collect(s,end)\n",
    "for i in range(start-1,end):\n",
    "    posts[i].click()\n",
    "    unlike(i+1)\n",
    "    driver.back()"
   ]
  },
  {
   "cell_type": "markdown",
   "id": "c4c4616e",
   "metadata": {},
   "source": [
    "###\n",
    "### Extract list of followers\n",
    "#### Extract the usernames of the first 500 followers of ‘handler_name’."
   ]
  },
  {
   "cell_type": "code",
   "execution_count": null,
   "id": "b09beafb",
   "metadata": {},
   "outputs": [],
   "source": [
    "def check_status(element):\n",
    "    \n",
    "    ele = element.get_attribute('innerHTML')\n",
    "    start = '<title>'\n",
    "    end = '</title>' \n",
    "    status = ''.join(ele.split(start)[1].split(end)[0])\n",
    "    return status"
   ]
  },
  {
   "cell_type": "code",
   "execution_count": null,
   "id": "6e8d534c",
   "metadata": {},
   "outputs": [],
   "source": [
    "def followers(s,number):\n",
    "    open_profile(s)\n",
    "    time.sleep(5)\n",
    "    wait = WebDriverWait(driver,10)\n",
    "    element = wait.until(EC.presence_of_element_located((By.XPATH,'//*[@class=\"_aa_y _aa_z _aa_-\"]//section/div//div')))\n",
    "    time.sleep(3)\n",
    "    status = check_status(element)\n",
    "    if(status=='Verified'):\n",
    "        print(\"In case of verified account we can't have access to the first 500 followers as it is limited to few followers only.\",\n",
    "          \"Only the account holder can have access to all the followers\")\n",
    "    follow_search = wait.until(EC.presence_of_element_located((By.XPATH,'//*[@class=\"x78zum5 x1q0g3np xieb3on\"]/li[2]/a')))\n",
    "    fs_btn = driver.find_element(By.XPATH,'//*[@class=\"x78zum5 x1q0g3np xieb3on\"]/li[2]/a')\n",
    "    fs_btn.click()\n",
    "    wait.until(EC.presence_of_element_located((By.XPATH,'//*[@class=\"_aano\"]')))\n",
    "    follower_panel = driver.find_element(By.XPATH,'//*[@class=\"_aano\"]')\n",
    "    while True:\n",
    "        current_height = driver.execute_script('return arguments[0].scrollHeight;',follower_panel)\n",
    "        WebDriverWait(driver,10)\n",
    "        element = wait.until(EC.presence_of_all_elements_located((By.XPATH,'//*[@class=\"_aacl _aaco _aacw _aacx _aad7 _aade\"]/div')))\n",
    "        follower_list = driver.find_elements(By.XPATH,'//*[@class=\"_aacl _aaco _aacw _aacx _aad7 _aade\"]/div')\n",
    "        if(len(follower_list)>number):\n",
    "            break\n",
    "        driver.execute_script('arguments[0].scrollTo(0,arguments[1]);',follower_panel,current_height)\n",
    "        time.sleep(3)\n",
    "        new_height = driver.execute_script('return arguments[0].scrollHeight;',follower_panel)\n",
    "        if(current_height==new_height):\n",
    "            break\n",
    "        current_height = new_height\n",
    "    follow_list = follower_list[:number]\n",
    "    count=1\n",
    "    for i in follow_list:\n",
    "        stat='>'\n",
    "        end = '<'\n",
    "        print(\"Follower\",count,i.get_attribute('outerHTML').split('>')[1].split('<')[0])\n",
    "        count+=1\n",
    "    driver.find_element(By.CLASS_NAME,\"_abl-\").click()    \n",
    "number = 500        \n",
    "followers('#handler_name',number)\n"
   ]
  },
  {
   "cell_type": "code",
   "execution_count": null,
   "id": "37d1ce6d",
   "metadata": {},
   "outputs": [],
   "source": [
    "time.sleep(5)"
   ]
  },
  {
   "cell_type": "markdown",
   "id": "2c0d3749",
   "metadata": {},
   "source": [
    "###\n",
    "### Check the story of ‘handler_name’. Consider the following Scenarios and print error messages accordingly -\n",
    "#### If You have already seen the story.\n",
    "#### Or The user has no story.\n",
    "#### Or View the story if not yet seen."
   ]
  },
  {
   "cell_type": "code",
   "execution_count": null,
   "id": "ecaf8fb1",
   "metadata": {},
   "outputs": [],
   "source": [
    "def check_story(s):\n",
    "    open_profile(s)\n",
    "    #try:\n",
    "    time.sleep(2)\n",
    "    dismiss = driver.find_element(By.XPATH,'//*[@class=\"x1iyjqo2 xh8yej3\"]/div[2]/span/div/a')\n",
    "    dismiss.click()\n",
    "    wait = WebDriverWait(driver,10)\n",
    "    time.sleep(5)\n",
    "    story_part = wait.until(EC.presence_of_element_located((By.XPATH,'//*[@class=\"_aa_y _aa_z _aa_-\"]/header//div[@class=\"_aarf _aarg\"]')))\n",
    "    story = driver.find_element(By.XPATH,'//*[@class=\"_aarf _aarg\"]/canvas').get_attribute('outerHTML')\n",
    "    height = ''.join(story.split('height: ')[1].split('px')[0])\n",
    "    width =  ''.join(story.split('width: ')[1].split('px')[0]) \n",
    "    if(int(height)==166 and int(width)==166):\n",
    "        print(\"You have already seen the story\")\n",
    "    else:\n",
    "        driver.find_element(By.XPATH,'//*[@class=\"_aa_y _aa_z _aa_-\"]/header//div[@class=\"_aarf _aarg\"]').click()\n",
    "    #except:\n",
    "     #   print(\"User has no story\")\n",
    "s = \"#handler_name\"\n",
    "check_story(s)    "
   ]
  },
  {
   "cell_type": "markdown",
   "id": "ebc37ee1",
   "metadata": {},
   "source": [
    "###\n",
    "### Logout"
   ]
  },
  {
   "cell_type": "code",
   "execution_count": null,
   "id": "f9f5a968",
   "metadata": {},
   "outputs": [],
   "source": [
    "def logout():\n",
    "    driver.find_element(By.XPATH,'//div[@class=\"xvb8j5 x1vjfegm\"]/div/div[3]/span/div/a').click()\n",
    "    time.sleep(3)\n",
    "    driver.find_element(By.XPATH,'//div[@class=\"x1y1aw1k x1sxyh0 xwib8y2 xurb0ha\"]/div[6]').click()"
   ]
  },
  {
   "cell_type": "code",
   "execution_count": null,
   "id": "aedb4d1e",
   "metadata": {},
   "outputs": [],
   "source": [
    "logout()"
   ]
  },
  {
   "cell_type": "code",
   "execution_count": null,
   "id": "b7bdb19b",
   "metadata": {},
   "outputs": [],
   "source": [
    "driver.close()"
   ]
  },
  {
   "cell_type": "code",
   "execution_count": null,
   "id": "7878fd97",
   "metadata": {},
   "outputs": [],
   "source": []
  }
 ],
 "metadata": {
  "kernelspec": {
   "display_name": "Python 3 (ipykernel)",
   "language": "python",
   "name": "python3"
  },
  "language_info": {
   "codemirror_mode": {
    "name": "ipython",
    "version": 3
   },
   "file_extension": ".py",
   "mimetype": "text/x-python",
   "name": "python",
   "nbconvert_exporter": "python",
   "pygments_lexer": "ipython3",
   "version": "3.11.3"
  }
 },
 "nbformat": 4,
 "nbformat_minor": 5
}
